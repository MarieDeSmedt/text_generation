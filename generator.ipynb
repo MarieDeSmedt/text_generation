{
  "nbformat": 4,
  "nbformat_minor": 0,
  "metadata": {
    "accelerator": "GPU",
    "colab": {
      "name": "generator.ipynb",
      "provenance": [],
      "collapsed_sections": []
    },
    "kernelspec": {
      "display_name": "Python 3",
      "name": "python3"
    },
    "language_info": {
      "name": "python"
    }
  },
  "cells": [
    {
      "cell_type": "code",
      "metadata": {
        "colab": {
          "base_uri": "https://localhost:8080/"
        },
        "id": "DITENvosthag",
        "outputId": "70e49afc-cec5-4b65-a32a-b81d7afe9d16"
      },
      "source": [
        "!pip install happytransformer\n"
      ],
      "execution_count": null,
      "outputs": [
        {
          "output_type": "stream",
          "text": [
            "Requirement already satisfied: happytransformer in /usr/local/lib/python3.7/dist-packages (2.2.4)\n",
            "Requirement already satisfied: protobuf in /usr/local/lib/python3.7/dist-packages (from happytransformer) (3.17.3)\n",
            "Requirement already satisfied: sentencepiece in /usr/local/lib/python3.7/dist-packages (from happytransformer) (0.1.96)\n",
            "Requirement already satisfied: tqdm>=4.27 in /usr/local/lib/python3.7/dist-packages (from happytransformer) (4.41.1)\n",
            "Requirement already satisfied: transformers>=4.4.0 in /usr/local/lib/python3.7/dist-packages (from happytransformer) (4.8.2)\n",
            "Requirement already satisfied: torch>=1.0 in /usr/local/lib/python3.7/dist-packages (from happytransformer) (1.9.0+cu102)\n",
            "Requirement already satisfied: datasets>=1.6.0 in /usr/local/lib/python3.7/dist-packages (from happytransformer) (1.9.0)\n",
            "Requirement already satisfied: six>=1.9 in /usr/local/lib/python3.7/dist-packages (from protobuf->happytransformer) (1.15.0)\n",
            "Requirement already satisfied: filelock in /usr/local/lib/python3.7/dist-packages (from transformers>=4.4.0->happytransformer) (3.0.12)\n",
            "Requirement already satisfied: numpy>=1.17 in /usr/local/lib/python3.7/dist-packages (from transformers>=4.4.0->happytransformer) (1.19.5)\n",
            "Requirement already satisfied: huggingface-hub==0.0.12 in /usr/local/lib/python3.7/dist-packages (from transformers>=4.4.0->happytransformer) (0.0.12)\n",
            "Requirement already satisfied: pyyaml in /usr/local/lib/python3.7/dist-packages (from transformers>=4.4.0->happytransformer) (3.13)\n",
            "Requirement already satisfied: regex!=2019.12.17 in /usr/local/lib/python3.7/dist-packages (from transformers>=4.4.0->happytransformer) (2019.12.20)\n",
            "Requirement already satisfied: sacremoses in /usr/local/lib/python3.7/dist-packages (from transformers>=4.4.0->happytransformer) (0.0.45)\n",
            "Requirement already satisfied: tokenizers<0.11,>=0.10.1 in /usr/local/lib/python3.7/dist-packages (from transformers>=4.4.0->happytransformer) (0.10.3)\n",
            "Requirement already satisfied: importlib-metadata; python_version < \"3.8\" in /usr/local/lib/python3.7/dist-packages (from transformers>=4.4.0->happytransformer) (4.6.1)\n",
            "Requirement already satisfied: packaging in /usr/local/lib/python3.7/dist-packages (from transformers>=4.4.0->happytransformer) (21.0)\n",
            "Requirement already satisfied: requests in /usr/local/lib/python3.7/dist-packages (from transformers>=4.4.0->happytransformer) (2.23.0)\n",
            "Requirement already satisfied: typing-extensions in /usr/local/lib/python3.7/dist-packages (from torch>=1.0->happytransformer) (3.7.4.3)\n",
            "Requirement already satisfied: multiprocess in /usr/local/lib/python3.7/dist-packages (from datasets>=1.6.0->happytransformer) (0.70.12.2)\n",
            "Requirement already satisfied: fsspec>=2021.05.0 in /usr/local/lib/python3.7/dist-packages (from datasets>=1.6.0->happytransformer) (2021.7.0)\n",
            "Requirement already satisfied: pyarrow!=4.0.0,>=1.0.0 in /usr/local/lib/python3.7/dist-packages (from datasets>=1.6.0->happytransformer) (3.0.0)\n",
            "Requirement already satisfied: dill in /usr/local/lib/python3.7/dist-packages (from datasets>=1.6.0->happytransformer) (0.3.4)\n",
            "Requirement already satisfied: xxhash in /usr/local/lib/python3.7/dist-packages (from datasets>=1.6.0->happytransformer) (2.0.2)\n",
            "Requirement already satisfied: pandas in /usr/local/lib/python3.7/dist-packages (from datasets>=1.6.0->happytransformer) (1.1.5)\n",
            "Requirement already satisfied: click in /usr/local/lib/python3.7/dist-packages (from sacremoses->transformers>=4.4.0->happytransformer) (7.1.2)\n",
            "Requirement already satisfied: joblib in /usr/local/lib/python3.7/dist-packages (from sacremoses->transformers>=4.4.0->happytransformer) (1.0.1)\n",
            "Requirement already satisfied: zipp>=0.5 in /usr/local/lib/python3.7/dist-packages (from importlib-metadata; python_version < \"3.8\"->transformers>=4.4.0->happytransformer) (3.5.0)\n",
            "Requirement already satisfied: pyparsing>=2.0.2 in /usr/local/lib/python3.7/dist-packages (from packaging->transformers>=4.4.0->happytransformer) (2.4.7)\n",
            "Requirement already satisfied: chardet<4,>=3.0.2 in /usr/local/lib/python3.7/dist-packages (from requests->transformers>=4.4.0->happytransformer) (3.0.4)\n",
            "Requirement already satisfied: urllib3!=1.25.0,!=1.25.1,<1.26,>=1.21.1 in /usr/local/lib/python3.7/dist-packages (from requests->transformers>=4.4.0->happytransformer) (1.24.3)\n",
            "Requirement already satisfied: idna<3,>=2.5 in /usr/local/lib/python3.7/dist-packages (from requests->transformers>=4.4.0->happytransformer) (2.10)\n",
            "Requirement already satisfied: certifi>=2017.4.17 in /usr/local/lib/python3.7/dist-packages (from requests->transformers>=4.4.0->happytransformer) (2021.5.30)\n",
            "Requirement already satisfied: pytz>=2017.2 in /usr/local/lib/python3.7/dist-packages (from pandas->datasets>=1.6.0->happytransformer) (2018.9)\n",
            "Requirement already satisfied: python-dateutil>=2.7.3 in /usr/local/lib/python3.7/dist-packages (from pandas->datasets>=1.6.0->happytransformer) (2.8.1)\n"
          ],
          "name": "stdout"
        }
      ]
    },
    {
      "cell_type": "code",
      "metadata": {
        "id": "jm4lVi9HLqjf"
      },
      "source": [
        "import pandas as pd\n",
        "\n",
        "from happytransformer import HappyGeneration\n",
        "from happytransformer import GENSettings\n",
        "from happytransformer import GENTrainArgs \n"
      ],
      "execution_count": null,
      "outputs": []
    },
    {
      "cell_type": "code",
      "metadata": {
        "id": "jaVbSncNL_l-"
      },
      "source": [
        "df=pd.read_csv(\"/content/for_generation.csv\", sep=',')"
      ],
      "execution_count": null,
      "outputs": []
    },
    {
      "cell_type": "code",
      "metadata": {
        "colab": {
          "base_uri": "https://localhost:8080/",
          "height": 564
        },
        "id": "KIAftNoJOzL4",
        "outputId": "76eaf3a5-4421-4a0d-a8ce-19296ba4290e"
      },
      "source": [
        "df.head()"
      ],
      "execution_count": null,
      "outputs": [
        {
          "output_type": "execute_result",
          "data": {
            "text/html": [
              "<div>\n",
              "<style scoped>\n",
              "    .dataframe tbody tr th:only-of-type {\n",
              "        vertical-align: middle;\n",
              "    }\n",
              "\n",
              "    .dataframe tbody tr th {\n",
              "        vertical-align: top;\n",
              "    }\n",
              "\n",
              "    .dataframe thead th {\n",
              "        text-align: right;\n",
              "    }\n",
              "</style>\n",
              "<table border=\"1\" class=\"dataframe\">\n",
              "  <thead>\n",
              "    <tr style=\"text-align: right;\">\n",
              "      <th></th>\n",
              "      <th>Keywords</th>\n",
              "      <th>PAA_1_k</th>\n",
              "      <th>PAA_2_k</th>\n",
              "      <th>PAA_3_k</th>\n",
              "      <th>PAA_4_k</th>\n",
              "      <th>PAA_5_k</th>\n",
              "      <th>content_PAA_1_k</th>\n",
              "      <th>content_PAA_2_k</th>\n",
              "      <th>content_PAA_3_k</th>\n",
              "      <th>content_PAA_4_k</th>\n",
              "      <th>content_PAA_5_k</th>\n",
              "      <th>Keyword_suggestion</th>\n",
              "      <th>PAA_1_ks</th>\n",
              "      <th>PAA_2_ks</th>\n",
              "      <th>PAA_3_ks</th>\n",
              "      <th>PAA_4_ks</th>\n",
              "      <th>PAA_5_ks</th>\n",
              "      <th>content_PAA_1_ks</th>\n",
              "      <th>content_PAA_2_ks</th>\n",
              "      <th>content_PAA_3_ks</th>\n",
              "      <th>content_PAA_4_ks</th>\n",
              "      <th>content_PAA_5_ks</th>\n",
              "    </tr>\n",
              "  </thead>\n",
              "  <tbody>\n",
              "    <tr>\n",
              "      <th>0</th>\n",
              "      <td>bitcoin</td>\n",
              "      <td>Comment avoir un Bitcoin gratuitement ?</td>\n",
              "      <td>Pourquoi acheter des Bitcoins ?</td>\n",
              "      <td>Comment fonctionne le Bitcoin pour les nuls ?</td>\n",
              "      <td>C'est quoi un compte Bitcoin ?</td>\n",
              "      <td>Comment fonctionne le BIT coin ?</td>\n",
              "      <td>FreeBitcoin. Vous pouvez gagner des bitcoins e...</td>\n",
              "      <td>Les motivations conduisant à acheter du bitcoi...</td>\n",
              "      <td>Le bitcoin repose sur un réseau décentralisé d...</td>\n",
              "      <td>Bitcoin est un système expérimental de transfe...</td>\n",
              "      <td>Un solde en bitcoin est rattaché à la clé publ...</td>\n",
              "      <td>bitcoin stock</td>\n",
              "      <td>no question</td>\n",
              "      <td>no question</td>\n",
              "      <td>no question</td>\n",
              "      <td>no question</td>\n",
              "      <td>no question</td>\n",
              "      <td>no answer</td>\n",
              "      <td>no answer</td>\n",
              "      <td>no answer</td>\n",
              "      <td>no answer</td>\n",
              "      <td>no answer</td>\n",
              "    </tr>\n",
              "    <tr>\n",
              "      <th>1</th>\n",
              "      <td>bitcoin</td>\n",
              "      <td>Comment avoir un Bitcoin gratuitement ?</td>\n",
              "      <td>Pourquoi acheter des Bitcoins ?</td>\n",
              "      <td>Comment fonctionne le Bitcoin pour les nuls ?</td>\n",
              "      <td>C'est quoi un compte Bitcoin ?</td>\n",
              "      <td>Comment fonctionne le BIT coin ?</td>\n",
              "      <td>FreeBitcoin. Vous pouvez gagner des bitcoins e...</td>\n",
              "      <td>Les motivations conduisant à acheter du bitcoi...</td>\n",
              "      <td>Le bitcoin repose sur un réseau décentralisé d...</td>\n",
              "      <td>Bitcoin est un système expérimental de transfe...</td>\n",
              "      <td>Bitcoin utilise la cryptographie par clés publ...</td>\n",
              "      <td>bitcoin news</td>\n",
              "      <td>no question</td>\n",
              "      <td>no question</td>\n",
              "      <td>no question</td>\n",
              "      <td>no question</td>\n",
              "      <td>no question</td>\n",
              "      <td>no answer</td>\n",
              "      <td>no answer</td>\n",
              "      <td>no answer</td>\n",
              "      <td>no answer</td>\n",
              "      <td>no answer</td>\n",
              "    </tr>\n",
              "    <tr>\n",
              "      <th>2</th>\n",
              "      <td>bitcoin</td>\n",
              "      <td>Comment avoir un Bitcoin gratuitement ?</td>\n",
              "      <td>Pourquoi acheter des Bitcoins ?</td>\n",
              "      <td>Comment fonctionne le Bitcoin pour les nuls ?</td>\n",
              "      <td>C'est quoi un compte Bitcoin ?</td>\n",
              "      <td>Comment fonctionne le BIT coin ?</td>\n",
              "      <td>FreeBitcoin. Vous pouvez gagner des bitcoins e...</td>\n",
              "      <td>Les motivations conduisant à acheter du bitcoi...</td>\n",
              "      <td>Le bitcoin repose sur un réseau décentralisé d...</td>\n",
              "      <td>Bitcoin est un système expérimental de transfe...</td>\n",
              "      <td>Un solde en bitcoin est rattaché à la clé publ...</td>\n",
              "      <td>bitcoin mining</td>\n",
              "      <td>C'est quoi le minage ?</td>\n",
              "      <td>C'est quoi le minage de Bitcoin ?</td>\n",
              "      <td>Qu'est-ce qu'une mine de Bitcoin ?</td>\n",
              "      <td>C'est quoi un mineur de Bitcoin ?</td>\n",
              "      <td>Comment faire du Bitcoin mining ?</td>\n",
              "      <td>no answer</td>\n",
              "      <td>no answer</td>\n",
              "      <td>Le minage c'est le procédé par lequel les tran...</td>\n",
              "      <td>Pour susciter le plus grand nombre possible de...</td>\n",
              "      <td>\\t- Ouvrez un portefeuille Bitcoin. ... \\n\\t- ...</td>\n",
              "    </tr>\n",
              "    <tr>\n",
              "      <th>3</th>\n",
              "      <td>bitcoin</td>\n",
              "      <td>Comment avoir un Bitcoin gratuitement ?</td>\n",
              "      <td>Pourquoi acheter des Bitcoins ?</td>\n",
              "      <td>Comment fonctionne le Bitcoin pour les nuls ?</td>\n",
              "      <td>C'est quoi un compte Bitcoin ?</td>\n",
              "      <td>Comment fonctionne le BIT coin ?</td>\n",
              "      <td>FreeBitcoin. Vous pouvez gagner des bitcoins e...</td>\n",
              "      <td>Les motivations conduisant à acheter du bitcoi...</td>\n",
              "      <td>Le bitcoin repose sur un réseau décentralisé d...</td>\n",
              "      <td>Bitcoin est un système expérimental de transfe...</td>\n",
              "      <td>Un solde en bitcoin est rattaché à la clé publ...</td>\n",
              "      <td>bitcoin price usd</td>\n",
              "      <td>no question</td>\n",
              "      <td>no question</td>\n",
              "      <td>no question</td>\n",
              "      <td>no question</td>\n",
              "      <td>no question</td>\n",
              "      <td>no answer</td>\n",
              "      <td>no answer</td>\n",
              "      <td>no answer</td>\n",
              "      <td>no answer</td>\n",
              "      <td>no answer</td>\n",
              "    </tr>\n",
              "    <tr>\n",
              "      <th>4</th>\n",
              "      <td>bitcoin</td>\n",
              "      <td>Comment avoir un Bitcoin gratuitement ?</td>\n",
              "      <td>Pourquoi acheter des Bitcoins ?</td>\n",
              "      <td>Comment fonctionne le Bitcoin pour les nuls ?</td>\n",
              "      <td>C'est quoi un compte Bitcoin ?</td>\n",
              "      <td>Comment fonctionne le BIT coin ?</td>\n",
              "      <td>FreeBitcoin. Vous pouvez gagner des bitcoins e...</td>\n",
              "      <td>Les motivations conduisant à acheter du bitcoi...</td>\n",
              "      <td>Le bitcoin repose sur un réseau décentralisé d...</td>\n",
              "      <td>Bitcoin est un système expérimental de transfe...</td>\n",
              "      <td>Un solde en bitcoin est rattaché à la clé publ...</td>\n",
              "      <td>bitcoin price prediction</td>\n",
              "      <td>What will bitcoin be worth in 2030?</td>\n",
              "      <td>What will bitcoin be worth in 2023?</td>\n",
              "      <td>What will Bitcoin cash be worth in 2025?</td>\n",
              "      <td>What will Bitcoin cash be worth in 2022?</td>\n",
              "      <td>What will BTC cost in 2022?</td>\n",
              "      <td>no answer</td>\n",
              "      <td>Year\\t      High\\t     Low\\n----------\\t...</td>\n",
              "      <td>Year\\n------\\n$1,721\\n$1,893\\n +319%</td>\n",
              "      <td>Year\\n-----\\n $700\\n $910\\n+101%</td>\n",
              "      <td>Bitcoin will reach $250,000 by end of 2022 or ...</td>\n",
              "    </tr>\n",
              "  </tbody>\n",
              "</table>\n",
              "</div>"
            ],
            "text/plain": [
              "  Keywords  ...                                   content_PAA_5_ks\n",
              "0  bitcoin  ...                                          no answer\n",
              "1  bitcoin  ...                                          no answer\n",
              "2  bitcoin  ...  \\t- Ouvrez un portefeuille Bitcoin. ... \\n\\t- ...\n",
              "3  bitcoin  ...                                          no answer\n",
              "4  bitcoin  ...  Bitcoin will reach $250,000 by end of 2022 or ...\n",
              "\n",
              "[5 rows x 22 columns]"
            ]
          },
          "metadata": {
            "tags": []
          },
          "execution_count": 31
        }
      ]
    },
    {
      "cell_type": "code",
      "metadata": {
        "id": "MtVEljSb03pN"
      },
      "source": [
        "newlist_keyword, newlist_question, newlist_answer,newlist_concatenation=[],[],[],[]\n",
        "new_df = pd.DataFrame()"
      ],
      "execution_count": null,
      "outputs": []
    },
    {
      "cell_type": "code",
      "metadata": {
        "id": "cN56bXgzJNs4"
      },
      "source": [
        "newlist=[]\n",
        "for i in range (0,4):\n",
        "  for j in range (1,5):\n",
        "    newlist_keyword.append(df.iloc[i,0])\n",
        "    newlist_question.append(df.iloc[i,j])\n",
        "    newlist_answer.append(df.iloc[i,j+5])\n",
        "    newlist_concatenation.append((df.iloc[i,j])+' '+(df.iloc[i,j+5]))"
      ],
      "execution_count": null,
      "outputs": []
    },
    {
      "cell_type": "code",
      "metadata": {
        "id": "8IYr_rIex5my"
      },
      "source": [
        "for i in range (0,4):\n",
        "  for j in range (12,17):\n",
        "    newlist_keyword.append(df.iloc[i,11])\n",
        "    newlist_question.append(df.iloc[i,j])\n",
        "    newlist_answer.append(df.iloc[i,j+5])\n",
        "    newlist_concatenation.append((df.iloc[i,j])+' '+(df.iloc[i,j+5])) "
      ],
      "execution_count": null,
      "outputs": []
    },
    {
      "cell_type": "code",
      "metadata": {
        "id": "qUS5Llo6zYb7"
      },
      "source": [
        "new_df['keyword'] = newlist_keyword\n",
        "new_df['question'] = newlist_question\n",
        "new_df['answer'] = newlist_answer\n",
        "new_df['concatenation'] = newlist_concatenation "
      ],
      "execution_count": null,
      "outputs": []
    },
    {
      "cell_type": "code",
      "metadata": {
        "colab": {
          "base_uri": "https://localhost:8080/"
        },
        "id": "3T6BOP0rT3CP",
        "outputId": "0df361b5-5b65-4824-9514-0e5710af14af"
      },
      "source": [
        "happy_gen = HappyGeneration(\"GPT-NEO\", \"EleutherAI/gpt-neo-125M\")"
      ],
      "execution_count": null,
      "outputs": [
        {
          "output_type": "stream",
          "text": [
            "07/16/2021 08:39:11 - INFO - happytransformer.happy_transformer -   Using model: cuda\n"
          ],
          "name": "stderr"
        }
      ]
    },
    {
      "cell_type": "code",
      "metadata": {
        "id": "MfcJ3Qe4hOlz"
      },
      "source": [
        "args = GENSettings(no_repeat_ngram_size=2, do_sample=True, early_stopping=False, top_k=50,max_length=500, temperature=0.7)"
      ],
      "execution_count": null,
      "outputs": []
    },
    {
      "cell_type": "code",
      "metadata": {
        "colab": {
          "base_uri": "https://localhost:8080/"
        },
        "id": "SiTY9_EY9zpm",
        "outputId": "80caff75-6065-4456-d9bf-e83d42e2427e"
      },
      "source": [
        "results = []\n",
        "for i in range(0,len(newlist_concatenation)):\n",
        "  result = happy_gen.generate_text(newlist_concatenation[i], args=args)\n",
        "  results.append(result.text)\n",
        "\n"
      ],
      "execution_count": null,
      "outputs": [
        {
          "output_type": "stream",
          "text": [
            "Setting `pad_token_id` to `eos_token_id`:50256 for open-end generation.\n",
            "Setting `pad_token_id` to `eos_token_id`:50256 for open-end generation.\n",
            "Setting `pad_token_id` to `eos_token_id`:50256 for open-end generation.\n",
            "Setting `pad_token_id` to `eos_token_id`:50256 for open-end generation.\n",
            "Setting `pad_token_id` to `eos_token_id`:50256 for open-end generation.\n",
            "Setting `pad_token_id` to `eos_token_id`:50256 for open-end generation.\n",
            "Setting `pad_token_id` to `eos_token_id`:50256 for open-end generation.\n",
            "Setting `pad_token_id` to `eos_token_id`:50256 for open-end generation.\n",
            "Setting `pad_token_id` to `eos_token_id`:50256 for open-end generation.\n",
            "Setting `pad_token_id` to `eos_token_id`:50256 for open-end generation.\n",
            "Setting `pad_token_id` to `eos_token_id`:50256 for open-end generation.\n",
            "Setting `pad_token_id` to `eos_token_id`:50256 for open-end generation.\n",
            "Setting `pad_token_id` to `eos_token_id`:50256 for open-end generation.\n",
            "Setting `pad_token_id` to `eos_token_id`:50256 for open-end generation.\n",
            "Setting `pad_token_id` to `eos_token_id`:50256 for open-end generation.\n",
            "Setting `pad_token_id` to `eos_token_id`:50256 for open-end generation.\n",
            "Setting `pad_token_id` to `eos_token_id`:50256 for open-end generation.\n",
            "Setting `pad_token_id` to `eos_token_id`:50256 for open-end generation.\n",
            "Setting `pad_token_id` to `eos_token_id`:50256 for open-end generation.\n",
            "Setting `pad_token_id` to `eos_token_id`:50256 for open-end generation.\n",
            "Setting `pad_token_id` to `eos_token_id`:50256 for open-end generation.\n",
            "Setting `pad_token_id` to `eos_token_id`:50256 for open-end generation.\n",
            "Setting `pad_token_id` to `eos_token_id`:50256 for open-end generation.\n",
            "Setting `pad_token_id` to `eos_token_id`:50256 for open-end generation.\n",
            "Setting `pad_token_id` to `eos_token_id`:50256 for open-end generation.\n",
            "Setting `pad_token_id` to `eos_token_id`:50256 for open-end generation.\n",
            "Setting `pad_token_id` to `eos_token_id`:50256 for open-end generation.\n",
            "Setting `pad_token_id` to `eos_token_id`:50256 for open-end generation.\n",
            "Setting `pad_token_id` to `eos_token_id`:50256 for open-end generation.\n",
            "Setting `pad_token_id` to `eos_token_id`:50256 for open-end generation.\n",
            "Setting `pad_token_id` to `eos_token_id`:50256 for open-end generation.\n",
            "Setting `pad_token_id` to `eos_token_id`:50256 for open-end generation.\n",
            "Setting `pad_token_id` to `eos_token_id`:50256 for open-end generation.\n",
            "Setting `pad_token_id` to `eos_token_id`:50256 for open-end generation.\n",
            "Setting `pad_token_id` to `eos_token_id`:50256 for open-end generation.\n",
            "Setting `pad_token_id` to `eos_token_id`:50256 for open-end generation.\n"
          ],
          "name": "stderr"
        }
      ]
    },
    {
      "cell_type": "code",
      "metadata": {
        "id": "Q5Kz34qC4JXE"
      },
      "source": [
        "new_df['result']=results\n"
      ],
      "execution_count": null,
      "outputs": []
    },
    {
      "cell_type": "code",
      "metadata": {
        "colab": {
          "base_uri": "https://localhost:8080/"
        },
        "id": "7XGsPS1X-jzF",
        "outputId": "5e771565-1c99-422a-a131-f37933d9673d"
      },
      "source": [
        "new_df.shape"
      ],
      "execution_count": null,
      "outputs": [
        {
          "output_type": "execute_result",
          "data": {
            "text/plain": [
              "(36, 5)"
            ]
          },
          "metadata": {
            "tags": []
          },
          "execution_count": 40
        }
      ]
    },
    {
      "cell_type": "code",
      "metadata": {
        "id": "MP4HZkDx4pax"
      },
      "source": [
        "new_df.to_csv('text_for_blog.csv')"
      ],
      "execution_count": null,
      "outputs": []
    },
    {
      "cell_type": "code",
      "metadata": {
        "colab": {
          "base_uri": "https://localhost:8080/",
          "height": 17
        },
        "id": "xW1yNqzt5kWn",
        "outputId": "a8002709-c01c-48cb-c8a1-e2cb4e0b6ef3"
      },
      "source": [
        "# if you want to download inlocal the final csv\n",
        "\n",
        "\n",
        "from google.colab import files\n",
        "files.download(\"text_for_blog.csv\")"
      ],
      "execution_count": null,
      "outputs": [
        {
          "output_type": "display_data",
          "data": {
            "application/javascript": [
              "\n",
              "    async function download(id, filename, size) {\n",
              "      if (!google.colab.kernel.accessAllowed) {\n",
              "        return;\n",
              "      }\n",
              "      const div = document.createElement('div');\n",
              "      const label = document.createElement('label');\n",
              "      label.textContent = `Downloading \"${filename}\": `;\n",
              "      div.appendChild(label);\n",
              "      const progress = document.createElement('progress');\n",
              "      progress.max = size;\n",
              "      div.appendChild(progress);\n",
              "      document.body.appendChild(div);\n",
              "\n",
              "      const buffers = [];\n",
              "      let downloaded = 0;\n",
              "\n",
              "      const channel = await google.colab.kernel.comms.open(id);\n",
              "      // Send a message to notify the kernel that we're ready.\n",
              "      channel.send({})\n",
              "\n",
              "      for await (const message of channel.messages) {\n",
              "        // Send a message to notify the kernel that we're ready.\n",
              "        channel.send({})\n",
              "        if (message.buffers) {\n",
              "          for (const buffer of message.buffers) {\n",
              "            buffers.push(buffer);\n",
              "            downloaded += buffer.byteLength;\n",
              "            progress.value = downloaded;\n",
              "          }\n",
              "        }\n",
              "      }\n",
              "      const blob = new Blob(buffers, {type: 'application/binary'});\n",
              "      const a = document.createElement('a');\n",
              "      a.href = window.URL.createObjectURL(blob);\n",
              "      a.download = filename;\n",
              "      div.appendChild(a);\n",
              "      a.click();\n",
              "      div.remove();\n",
              "    }\n",
              "  "
            ],
            "text/plain": [
              "<IPython.core.display.Javascript object>"
            ]
          },
          "metadata": {
            "tags": []
          }
        },
        {
          "output_type": "display_data",
          "data": {
            "application/javascript": [
              "download(\"download_7594b77f-8a5e-4ba6-a501-4f2ef2e1d758\", \"text_for_blog.csv\", 55866)"
            ],
            "text/plain": [
              "<IPython.core.display.Javascript object>"
            ]
          },
          "metadata": {
            "tags": []
          }
        }
      ]
    }
  ]
}